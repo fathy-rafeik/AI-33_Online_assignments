{
 "cells": [
  {
   "cell_type": "markdown",
   "id": "1b7e756f-cdf2-4102-ae1e-fe8b43849c66",
   "metadata": {},
   "source": [
    "# I need a Game for Car \n",
    "\n",
    "when i input start print \"I'm ready to go \"\n",
    "\n",
    "when i input stop print \"Car stop\"\n",
    "\n",
    "when i input Quit stop the game \n",
    "\n",
    "and add help to help him in this choise if he didn't know --> like a massage to till him"
   ]
  },
  {
   "cell_type": "code",
   "execution_count": 1,
   "id": "63f4576d-ed25-4fb9-832a-399567f38269",
   "metadata": {},
   "outputs": [],
   "source": [
    "class game():\n",
    "    def __init__(self,choice):\n",
    "        if choice == \"start\":print(\"I am ready to go.\");\n",
    "        if choice == \"stop\":print(\"Car stop.\");\n",
    "        #if choice == \"Quit\":pass;\n",
    "        if choice == \"help\":print(\"please enter your choice:\\n start > i am ready to go \\n stop > Car stop \\n Quit > stop the game\")\n",
    "        "
   ]
  },
  {
   "cell_type": "code",
   "execution_count": 4,
   "id": "9b7f388f-f528-408a-b201-702f85824e76",
   "metadata": {},
   "outputs": [
    {
     "name": "stdout",
     "output_type": "stream",
     "text": [
      "please enter your choice:\n",
      " start > i am ready to go \n",
      " stop > Car stop \n",
      " Quit > stop the game \n",
      " help > for helpstart\n",
      "I am ready to go.\n",
      "please enter your choice:\n",
      " start > i am ready to go \n",
      " stop > Car stop \n",
      " Quit > stop the game \n",
      " help > for helpstop\n",
      "Car stop.\n",
      "please enter your choice:\n",
      " start > i am ready to go \n",
      " stop > Car stop \n",
      " Quit > stop the game \n",
      " help > for helphelp\n",
      "please enter your choice:\n",
      " start > i am ready to go \n",
      " stop > Car stop \n",
      " Quit > stop the game\n",
      "please enter your choice:\n",
      " start > i am ready to go \n",
      " stop > Car stop \n",
      " Quit > stop the game \n",
      " help > for helpQuit\n"
     ]
    }
   ],
   "source": [
    "choice=\"no\"\n",
    "while choice != \"Quit\":\n",
    "    choice=input(\"please enter your choice:\\n start > i am ready to go \\n stop > Car stop \\n Quit > stop the game \\n help > for help\")\n",
    "    game1=game(choice)"
   ]
  },
  {
   "cell_type": "code",
   "execution_count": null,
   "id": "7351790d-e194-42a3-b2c6-acd84a3da816",
   "metadata": {},
   "outputs": [],
   "source": []
  },
  {
   "cell_type": "markdown",
   "id": "66397f40-91a5-4c2b-a612-094a6732e697",
   "metadata": {},
   "source": [
    "# I need math game \n",
    "\n",
    "when i choise any number give my the maltiplcation of it like \n",
    "\n",
    "1*1=1\n",
    "\n",
    "1*2=2\n",
    "\n",
    "1*3=3\n",
    "\n",
    "so on ..."
   ]
  },
  {
   "cell_type": "code",
   "execution_count": 16,
   "id": "a51e81f5-66bb-4bae-a5d7-e240c8ac710c",
   "metadata": {},
   "outputs": [
    {
     "name": "stdout",
     "output_type": "stream",
     "text": [
      "please enter number6\n",
      "6\n",
      "12\n",
      "18\n",
      "24\n",
      "30\n",
      "36\n",
      "42\n",
      "48\n",
      "54\n",
      "60\n",
      "66\n"
     ]
    }
   ],
   "source": [
    "# To help you i need a clas\n",
    "class MultOfNum():\n",
    "    def __init__(self,number):\n",
    "        x=1\n",
    "        for i in range(1,12):\n",
    "            x=number*i\n",
    "            print(x)\n",
    "\n",
    "number=int(input(\"please enter number\"))\n",
    "multiplication=MultOfNum(number)"
   ]
  },
  {
   "cell_type": "code",
   "execution_count": null,
   "id": "3a98df1b",
   "metadata": {},
   "outputs": [],
   "source": []
  },
  {
   "cell_type": "code",
   "execution_count": null,
   "id": "2dc3a13a",
   "metadata": {},
   "outputs": [],
   "source": []
  }
 ],
 "metadata": {
  "kernelspec": {
   "display_name": "Python 3 (ipykernel)",
   "language": "python",
   "name": "python3"
  },
  "language_info": {
   "codemirror_mode": {
    "name": "ipython",
    "version": 3
   },
   "file_extension": ".py",
   "mimetype": "text/x-python",
   "name": "python",
   "nbconvert_exporter": "python",
   "pygments_lexer": "ipython3",
   "version": "3.9.12"
  }
 },
 "nbformat": 4,
 "nbformat_minor": 5
}
